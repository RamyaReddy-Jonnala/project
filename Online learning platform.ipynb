{
  "nbformat": 4,
  "nbformat_minor": 0,
  "metadata": {
    "colab": {
      "provenance": []
    },
    "kernelspec": {
      "name": "python3",
      "display_name": "Python 3"
    },
    "language_info": {
      "name": "python"
    }
  },
  "cells": [
    {
      "cell_type": "code",
      "execution_count": 8,
      "metadata": {
        "colab": {
          "base_uri": "https://localhost:8080/"
        },
        "id": "zy_iRVVgPNTv",
        "outputId": "e6649bc2-6b61-412b-f77b-faab5040b9b3"
      },
      "outputs": [
        {
          "output_type": "stream",
          "name": "stdout",
          "text": [
            "Recommended Courses for User 1: ['Web Development Bootcamp', 'Machine Learning Basics']\n"
          ]
        }
      ],
      "source": [
        "import pandas as pd\n",
        "from sklearn.metrics.pairwise import cosine_similarity\n",
        "from sklearn.preprocessing import OneHotEncoder\n",
        "import numpy as np\n",
        "\n",
        "# Step 1: Create Sample Data\n",
        "\n",
        "# Sample user profiles\n",
        "user_profiles = pd.DataFrame({\n",
        "    'user_id': [1, 2, 3],\n",
        "    'interests': ['Data Science', 'Web Development', 'Machine Learning'],\n",
        "    'skills': ['Python, SQL', 'HTML, CSS, JavaScript', 'Python, R'],\n",
        "    'learning_preference': ['Video', 'Text', 'Video']\n",
        "})\n",
        "\n",
        "# Sample courses\n",
        "courses = pd.DataFrame({\n",
        "    'course_id': [101, 102, 103],\n",
        "    'title': ['Introduction to Data Science', 'Web Development Bootcamp', 'Machine Learning Basics'],\n",
        "    'subject': ['Data Science', 'Web Development', 'Machine Learning'],\n",
        "    'difficulty_level': ['Beginner', 'Intermediate', 'Beginner']\n",
        "})\n",
        "\n",
        "# Sample user-course interactions\n",
        "user_course_interactions = pd.DataFrame({\n",
        "    'user_id': [1, 1, 2, 3, 3],\n",
        "    'course_id': [101, 103, 102, 101, 103],\n",
        "    'rating': [5, 4, 5, 3, 4]\n",
        "})\n",
        "\n",
        "# Step 2: Load and Preprocess Data\n",
        "\n",
        "# One-hot encoding for categorical features\n",
        "encoder = OneHotEncoder(sparse_output=False)  # Use sparse_output=False for dense output\n",
        "\n",
        "# Encode user interests\n",
        "user_interests_encoded = encoder.fit_transform(user_profiles[['interests']])\n",
        "user_interests_df = pd.DataFrame(user_interests_encoded, columns=encoder.get_feature_names_out(['interests']))\n",
        "\n",
        "# Encode course subjects\n",
        "course_subjects_encoded = encoder.fit_transform(courses[['subject']])\n",
        "course_subjects_df = pd.DataFrame(course_subjects_encoded, columns=encoder.get_feature_names_out(['subject']))\n",
        "\n",
        "# Create user-item interaction matrix\n",
        "interaction_matrix = user_course_interactions.pivot(index='user_id', columns='course_id', values='rating').fillna(0)\n",
        "\n",
        "# Step 3: Collaborative Filtering\n",
        "\n",
        "# Calculate user similarity\n",
        "user_similarity = cosine_similarity(interaction_matrix)\n",
        "user_similarity_df = pd.DataFrame(user_similarity, index=interaction_matrix.index, columns=interaction_matrix.index)\n",
        "\n",
        "# Step 4: Content-Based Filtering\n",
        "\n",
        "# Combine user interests and skills for content-based filtering\n",
        "user_features = pd.concat([user_profiles[['user_id']], user_interests_df], axis=1)\n",
        "\n",
        "# Combine course subjects and difficulty level for content-based filtering\n",
        "course_features = pd.concat([courses[['course_id']], course_subjects_df], axis=1)\n",
        "\n",
        "# Step 5: Recommendation Function\n",
        "\n",
        "def recommend_courses(user_id, num_recommendations=2):\n",
        "    # Get similar users\n",
        "    similar_users = user_similarity_df[user_id].sort_values(ascending=False).index[1:num_recommendations + 1]\n",
        "\n",
        "    # Get courses rated by similar users\n",
        "    recommended_courses = interaction_matrix.loc[similar_users].mean(axis=0).sort_values(ascending=False).index[:num_recommendations]\n",
        "\n",
        "    # Get course titles\n",
        "    recommended_course_titles = courses[courses['course_id'].isin(recommended_courses)]['title'].tolist()\n",
        "\n",
        "    return recommended_course_titles\n",
        "\n",
        "# Example usage\n",
        "user_id = 1\n",
        "recommended_courses = recommend_courses(user_id)\n",
        "print(f\"Recommended Courses for User {user_id}: {recommended_courses}\")"
      ]
    }
  ]
}