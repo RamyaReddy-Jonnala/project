{
  "nbformat": 4,
  "nbformat_minor": 0,
  "metadata": {
    "colab": {
      "provenance": []
    },
    "kernelspec": {
      "name": "python3",
      "display_name": "Python 3"
    },
    "language_info": {
      "name": "python"
    }
  },
  "cells": [
    {
      "cell_type": "code",
      "execution_count": 9,
      "metadata": {
        "colab": {
          "base_uri": "https://localhost:8080/"
        },
        "id": "zy_iRVVgPNTv",
        "outputId": "db92e142-2758-458c-a812-4b30659240b7"
      },
      "outputs": [
        {
          "output_type": "stream",
          "name": "stdout",
          "text": [
            "Best Strategy: Industrial Emission Controls with Utility: 25.0\n"
          ]
        }
      ],
      "source": [
        "import numpy as np\n",
        "\n",
        "class PollutionControlAgent:\n",
        "    def __init__(self, weights):\n",
        "        self.weights = weights  # Weights for pollution, health, and environment\n",
        "\n",
        "    def calculate_utility(self, pollution_reduction, health_risk, environmental_impact):\n",
        "        # Calculate utility score\n",
        "        utility = (self.weights[0] * pollution_reduction) - (self.weights[1] * health_risk) + (self.weights[2] * environmental_impact)\n",
        "        return utility\n",
        "\n",
        "    def select_strategy(self, strategies):\n",
        "        best_strategy = None\n",
        "        best_utility = -np.inf  # Start with the lowest possible utility\n",
        "\n",
        "        for strategy in strategies:\n",
        "            # Unpack strategy details\n",
        "            name, pollution_reduction, health_risk, environmental_impact = strategy\n",
        "\n",
        "            # Calculate utility for the current strategy\n",
        "            utility = self.calculate_utility(pollution_reduction, health_risk, environmental_impact)\n",
        "\n",
        "            # Check if this strategy is better than the best found so far\n",
        "            if utility > best_utility:\n",
        "                best_utility = utility\n",
        "                best_strategy = name\n",
        "\n",
        "        return best_strategy, best_utility\n",
        "\n",
        "# Example usage\n",
        "weights = [0.5, 0.3, 0.2]  # Example weights for pollution, health, and environment\n",
        "agent = PollutionControlAgent(weights)\n",
        "\n",
        "# Define strategies: (name, pollution_reduction, health_risk, environmental_impact)\n",
        "strategies = [\n",
        "    (\"Traffic Regulation\", 30, 5, 10),\n",
        "    (\"Industrial Emission Controls\", 50, 10, 15),\n",
        "    (\"Public Transportation Incentives\", 20, 3, 12),\n",
        "    (\"Green Spaces\", 15, 2, 20)\n",
        "]\n",
        "\n",
        "best_strategy, best_utility = agent.select_strategy(strategies)\n",
        "print(f\"Best Strategy: {best_strategy} with Utility: {best_utility}\")"
      ]
    }
  ]
}